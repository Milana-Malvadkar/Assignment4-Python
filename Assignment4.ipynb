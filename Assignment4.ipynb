{
 "cells": [
  {
   "cell_type": "code",
   "execution_count": null,
   "id": "4f22b262",
   "metadata": {},
   "outputs": [],
   "source": [
    "1.What exactly is []?\n",
    "ans: The empty list value, which is a list value that contains no items. "
   ]
  },
  {
   "cell_type": "code",
   "execution_count": null,
   "id": "0069bf38",
   "metadata": {},
   "outputs": [],
   "source": [
    "2.In a list of values stored in a variable called spam, how would you assign the value 'hello' as the third value? (Assume [2, 4, 6, 8, 10] are in spam.)\n",
    "ans:spam[2] = 'hello'"
   ]
  },
  {
   "cell_type": "code",
   "execution_count": null,
   "id": "cfdf7e1d",
   "metadata": {},
   "outputs": [],
   "source": [
    "Let's pretend the spam includes the list ['a', 'b', 'c', 'd'] for the next three queries\n",
    "3.What is the value of spam[int(int('3' * 2) / 11)]?\n",
    "ans:'d'"
   ]
  },
  {
   "cell_type": "code",
   "execution_count": null,
   "id": "8ffed9c1",
   "metadata": {},
   "outputs": [],
   "source": [
    "4.What is the value of spam[-1]?\n",
    "ans:'d'"
   ]
  },
  {
   "cell_type": "code",
   "execution_count": null,
   "id": "9108abc4",
   "metadata": {},
   "outputs": [],
   "source": [
    "5. What is the value of spam[:2]?\n",
    "ans:['a','b']"
   ]
  },
  {
   "cell_type": "code",
   "execution_count": null,
   "id": "61e5a654",
   "metadata": {},
   "outputs": [],
   "source": [
    "Let's pretend bacon has the list [3.14, 'cat,' 11, 'cat,' True] for the next three questions.\n",
    "6. What is the value of bacon.index('cat')?\n",
    "ans:1"
   ]
  },
  {
   "cell_type": "code",
   "execution_count": null,
   "id": "7ed19b2e",
   "metadata": {},
   "outputs": [],
   "source": [
    "7. How does bacon.append(99) change the look of the list value in bacon?\n",
    "ans:[3.14, 'cat,' 11, 'cat,' True,99]"
   ]
  },
  {
   "cell_type": "code",
   "execution_count": null,
   "id": "6897fd23",
   "metadata": {},
   "outputs": [],
   "source": [
    "8. How does bacon.remove('cat') change the look of the list in bacon?\n",
    "ans:[3.14, 11,'cat', True]"
   ]
  },
  {
   "cell_type": "code",
   "execution_count": null,
   "id": "4bf950a6",
   "metadata": {},
   "outputs": [],
   "source": [
    "9. What are the list concatenation and list replication operators?\n",
    "ans:The operator for list concatenation is +, and the operator for replication is *."
   ]
  },
  {
   "cell_type": "code",
   "execution_count": null,
   "id": "33267b42",
   "metadata": {},
   "outputs": [],
   "source": [
    "10. What is difference between the list methods append() and insert()?\n",
    "ans: append() will add values only to the end of a list, insert() can add them anywhere in the list."
   ]
  },
  {
   "cell_type": "code",
   "execution_count": null,
   "id": "bff5a83d",
   "metadata": {},
   "outputs": [],
   "source": [
    "11.What are the two methods for removing items from a list?\n",
    "ans:The del statement and the remove() list method are two ways to remove values from a list."
   ]
  },
  {
   "cell_type": "code",
   "execution_count": null,
   "id": "c84c6c66",
   "metadata": {},
   "outputs": [],
   "source": [
    "12.Describe how list values and string values are identical.\n",
    "ans: The values that make up a list are called its elements. Lists are similar to strings, which are ordered collections of characters, except that the elements of a list can have any type and for any one list, the items can be of different types."
   ]
  },
  {
   "cell_type": "code",
   "execution_count": null,
   "id": "ca369670",
   "metadata": {},
   "outputs": [],
   "source": [
    "13. What's the difference between tuples and lists?\n",
    "ans:One of the most important differences between list and tuple is that list is mutable, whereas a tuple is immutable. This means that lists can be changed, and tuples cannot be changed. So, some operations can work on lists, but not on tuples.\n",
    "    "
   ]
  },
  {
   "cell_type": "code",
   "execution_count": null,
   "id": "47157705",
   "metadata": {},
   "outputs": [],
   "source": [
    "14. How do you type a tuple value that only contains the integer 42?\n",
    "ans: (42,)"
   ]
  },
  {
   "cell_type": "code",
   "execution_count": null,
   "id": "732568aa",
   "metadata": {},
   "outputs": [],
   "source": [
    "15. How do you get a list value's tuple form? How do you get a tuple value's list form?\n",
    "ans: We can create a list of tuples i.e. the elements of the tuple can be enclosed in a list and thus will follow the characteristics in a similar manner as of a Python list. Since, Python Tuples utilize less amount of space, creating a list of tuples would be more useful in every aspect.\n",
    "         eg:LT_data = [(1,2,3),('S','P','Q')]\n",
    "            print(\"List of Tuples:\\n\",LT_data)\n",
    "            output: List of Tuples:[(1, 2, 3), ('S', 'P', 'Q')]"
   ]
  },
  {
   "cell_type": "code",
   "execution_count": null,
   "id": "72bc6005",
   "metadata": {},
   "outputs": [],
   "source": [
    "16. Variables that \"contain\" list values are not necessarily lists themselves. Instead, what do they contain?\n",
    "ans: Variables contain references to list values."
   ]
  },
  {
   "cell_type": "code",
   "execution_count": null,
   "id": "3b62d072",
   "metadata": {},
   "outputs": [],
   "source": [
    "17. How do you distinguish between copy.copy() and copy.deepcopy()?\n",
    "ans: The copy.copy() function will do a shallow copy of a list, the copy.deepcopy() function will do a deep copy of a list. That is, only copy.deepcopy() will duplicate any lists inside the list.\n"
   ]
  }
 ],
 "metadata": {
  "kernelspec": {
   "display_name": "Python 3",
   "language": "python",
   "name": "python3"
  },
  "language_info": {
   "codemirror_mode": {
    "name": "ipython",
    "version": 3
   },
   "file_extension": ".py",
   "mimetype": "text/x-python",
   "name": "python",
   "nbconvert_exporter": "python",
   "pygments_lexer": "ipython3",
   "version": "3.8.8"
  }
 },
 "nbformat": 4,
 "nbformat_minor": 5
}
